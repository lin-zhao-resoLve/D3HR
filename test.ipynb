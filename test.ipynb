{
 "cells": [
  {
   "cell_type": "code",
   "execution_count": 5,
   "metadata": {},
   "outputs": [
    {
     "name": "stderr",
     "output_type": "stream",
     "text": [
      "Loading pipeline components...: 100%|██████████| 3/3 [00:01<00:00,  1.61it/s]\n",
      "100%|██████████| 25/25 [00:01<00:00, 16.76it/s]\n"
     ]
    },
    {
     "ename": "",
     "evalue": "",
     "output_type": "error",
     "traceback": [
      "\u001b[1;31m在当前单元格或上一个单元格中执行代码时 Kernel 崩溃。\n",
      "\u001b[1;31m请查看单元格中的代码，以确定故障的可能原因。\n",
      "\u001b[1;31m单击<a href='https://aka.ms/vscodeJupyterKernelCrash'>此处</a>了解详细信息。\n",
      "\u001b[1;31m有关更多详细信息，请查看 Jupyter <a href='command:jupyter.viewOutput'>log</a>。"
     ]
    }
   ],
   "source": [
    "from diffusers import DiTPipeline, DPMSolverMultistepScheduler\n",
    "import torch\n",
    "\n",
    "pipe = DiTPipeline.from_pretrained(\"/home/user1/workspace/leilu/linzhao/dit_imagenet\", torch_dtype=torch.float16)\n",
    "pipe.scheduler = DPMSolverMultistepScheduler.from_config(pipe.scheduler.config)\n",
    "pipe = pipe.to(\"cuda\")\n",
    "\n",
    "# pick words from Imagenet class labels\n",
    "pipe.labels  # to print all available words\n",
    "\n",
    "# pick words that exist in ImageNet\n",
    "words = [\"white shark\", \"umbrella\"]\n",
    "\n",
    "class_ids = pipe.get_label_ids(words)\n",
    "\n",
    "generator = torch.manual_seed(0)\n",
    "output = pipe(class_labels=class_ids, num_inference_steps=25, generator=generator)\n",
    "\n",
    "image = output.images[0]  # label 'white shark'\n",
    "image.save('111.png')"
   ]
  },
  {
   "cell_type": "code",
   "execution_count": 2,
   "metadata": {},
   "outputs": [],
   "source": [
    "import os\n",
    "import json\n",
    "import torch\n",
    "import numpy as np\n",
    "from tqdm import tqdm\n",
    "from sklearn.cluster import MiniBatchKMeans,KMeans,DBSCAN\n",
    "from sklearn.manifold import TSNE\n",
    "from matplotlib.gridspec import GridSpec\n",
    "import matplotlib.pyplot as plt\n",
    "from sklearn.decomposition import PCA\n",
    "from mpl_toolkits.mplot3d import Axes3D\n",
    "from sklearn.preprocessing import StandardScaler, normalize\n",
    "from sklearn.metrics import rand_score, normalized_mutual_info_score\n",
    "from sklearn.metrics.pairwise import cosine_distances\n",
    "from collections import Counter, defaultdict\n",
    "import ipdb"
   ]
  },
  {
   "cell_type": "code",
   "execution_count": 4,
   "metadata": {},
   "outputs": [],
   "source": [
    "def load_mapping(mapping_file):\n",
    "    new_mapping = {}\n",
    "    with open(mapping_file, 'r') as file:\n",
    "        for index, line in enumerate(file):\n",
    "            # 提取每一行的编号（n开头部分）并将行号-1\n",
    "            key = line.split()[0]\n",
    "            new_mapping[key] = index \n",
    "    return new_mapping"
   ]
  },
  {
   "cell_type": "code",
   "execution_count": 7,
   "metadata": {},
   "outputs": [],
   "source": [
    "mapping_file = \"/home/zhao.lin1/DD-DDIM-Inversion/ds_inf/tiny-imagenet-200/tiny-imagenet-mapping.txt\" \n",
    "wnid_to_index=load_mapping(mapping_file)\n",
    "root_dir = \"/scratch/zhao.lin1/dataset/tiny-imagenet-200\""
   ]
  },
  {
   "cell_type": "code",
   "execution_count": 8,
   "metadata": {},
   "outputs": [
    {
     "name": "stdout",
     "output_type": "stream",
     "text": [
      "n01443537\n",
      "n01443537_321.JPEG\n",
      "/scratch/zhao.lin1/dataset/tiny-imagenet-200/n01443537/images/n01443537_321.JPEG\n",
      "n01443537_357.JPEG\n",
      "/scratch/zhao.lin1/dataset/tiny-imagenet-200/n01443537/images/n01443537_357.JPEG\n",
      "n01443537_220.JPEG\n",
      "/scratch/zhao.lin1/dataset/tiny-imagenet-200/n01443537/images/n01443537_220.JPEG\n",
      "n01443537_187.JPEG\n",
      "/scratch/zhao.lin1/dataset/tiny-imagenet-200/n01443537/images/n01443537_187.JPEG\n",
      "n01443537_138.JPEG\n",
      "/scratch/zhao.lin1/dataset/tiny-imagenet-200/n01443537/images/n01443537_138.JPEG\n",
      "n01443537_313.JPEG\n",
      "/scratch/zhao.lin1/dataset/tiny-imagenet-200/n01443537/images/n01443537_313.JPEG\n",
      "n01443537_310.JPEG\n",
      "/scratch/zhao.lin1/dataset/tiny-imagenet-200/n01443537/images/n01443537_310.JPEG\n",
      "n01443537_62.JPEG\n",
      "/scratch/zhao.lin1/dataset/tiny-imagenet-200/n01443537/images/n01443537_62.JPEG\n",
      "n01443537_97.JPEG\n",
      "/scratch/zhao.lin1/dataset/tiny-imagenet-200/n01443537/images/n01443537_97.JPEG\n",
      "n01443537_294.JPEG\n",
      "/scratch/zhao.lin1/dataset/tiny-imagenet-200/n01443537/images/n01443537_294.JPEG\n",
      "n01443537_296.JPEG\n",
      "/scratch/zhao.lin1/dataset/tiny-imagenet-200/n01443537/images/n01443537_296.JPEG\n",
      "n01443537_263.JPEG\n",
      "/scratch/zhao.lin1/dataset/tiny-imagenet-200/n01443537/images/n01443537_263.JPEG\n",
      "n01443537_133.JPEG\n",
      "/scratch/zhao.lin1/dataset/tiny-imagenet-200/n01443537/images/n01443537_133.JPEG\n",
      "n01443537_425.JPEG\n",
      "/scratch/zhao.lin1/dataset/tiny-imagenet-200/n01443537/images/n01443537_425.JPEG\n",
      "n01443537_200.JPEG\n",
      "/scratch/zhao.lin1/dataset/tiny-imagenet-200/n01443537/images/n01443537_200.JPEG\n",
      "n01443537_153.JPEG\n",
      "/scratch/zhao.lin1/dataset/tiny-imagenet-200/n01443537/images/n01443537_153.JPEG\n",
      "n01443537_419.JPEG\n",
      "/scratch/zhao.lin1/dataset/tiny-imagenet-200/n01443537/images/n01443537_419.JPEG\n",
      "n01443537_239.JPEG\n",
      "/scratch/zhao.lin1/dataset/tiny-imagenet-200/n01443537/images/n01443537_239.JPEG\n",
      "n01443537_437.JPEG\n",
      "/scratch/zhao.lin1/dataset/tiny-imagenet-200/n01443537/images/n01443537_437.JPEG\n",
      "n01443537_307.JPEG\n",
      "/scratch/zhao.lin1/dataset/tiny-imagenet-200/n01443537/images/n01443537_307.JPEG\n",
      "n01443537_7.JPEG\n",
      "/scratch/zhao.lin1/dataset/tiny-imagenet-200/n01443537/images/n01443537_7.JPEG\n",
      "n01443537_427.JPEG\n",
      "/scratch/zhao.lin1/dataset/tiny-imagenet-200/n01443537/images/n01443537_427.JPEG\n",
      "n01443537_248.JPEG\n",
      "/scratch/zhao.lin1/dataset/tiny-imagenet-200/n01443537/images/n01443537_248.JPEG\n",
      "n01443537_297.JPEG\n",
      "/scratch/zhao.lin1/dataset/tiny-imagenet-200/n01443537/images/n01443537_297.JPEG\n",
      "n01443537_344.JPEG\n",
      "/scratch/zhao.lin1/dataset/tiny-imagenet-200/n01443537/images/n01443537_344.JPEG\n",
      "n01443537_36.JPEG\n",
      "/scratch/zhao.lin1/dataset/tiny-imagenet-200/n01443537/images/n01443537_36.JPEG\n",
      "n01443537_257.JPEG\n",
      "/scratch/zhao.lin1/dataset/tiny-imagenet-200/n01443537/images/n01443537_257.JPEG\n",
      "n01443537_21.JPEG\n",
      "/scratch/zhao.lin1/dataset/tiny-imagenet-200/n01443537/images/n01443537_21.JPEG\n",
      "n01443537_442.JPEG\n",
      "/scratch/zhao.lin1/dataset/tiny-imagenet-200/n01443537/images/n01443537_442.JPEG\n",
      "n01443537_233.JPEG\n",
      "/scratch/zhao.lin1/dataset/tiny-imagenet-200/n01443537/images/n01443537_233.JPEG\n",
      "n01443537_214.JPEG\n",
      "/scratch/zhao.lin1/dataset/tiny-imagenet-200/n01443537/images/n01443537_214.JPEG\n",
      "n01443537_123.JPEG\n",
      "/scratch/zhao.lin1/dataset/tiny-imagenet-200/n01443537/images/n01443537_123.JPEG\n",
      "n01443537_13.JPEG\n",
      "/scratch/zhao.lin1/dataset/tiny-imagenet-200/n01443537/images/n01443537_13.JPEG\n",
      "n01443537_203.JPEG\n",
      "/scratch/zhao.lin1/dataset/tiny-imagenet-200/n01443537/images/n01443537_203.JPEG\n",
      "n01443537_146.JPEG\n",
      "/scratch/zhao.lin1/dataset/tiny-imagenet-200/n01443537/images/n01443537_146.JPEG\n",
      "n01443537_186.JPEG\n",
      "/scratch/zhao.lin1/dataset/tiny-imagenet-200/n01443537/images/n01443537_186.JPEG\n",
      "n01443537_125.JPEG\n",
      "/scratch/zhao.lin1/dataset/tiny-imagenet-200/n01443537/images/n01443537_125.JPEG\n",
      "n01443537_96.JPEG\n",
      "/scratch/zhao.lin1/dataset/tiny-imagenet-200/n01443537/images/n01443537_96.JPEG\n",
      "n01443537_473.JPEG\n",
      "/scratch/zhao.lin1/dataset/tiny-imagenet-200/n01443537/images/n01443537_473.JPEG\n",
      "n01443537_371.JPEG\n",
      "/scratch/zhao.lin1/dataset/tiny-imagenet-200/n01443537/images/n01443537_371.JPEG\n",
      "n01443537_441.JPEG\n",
      "/scratch/zhao.lin1/dataset/tiny-imagenet-200/n01443537/images/n01443537_441.JPEG\n",
      "n01443537_236.JPEG\n",
      "/scratch/zhao.lin1/dataset/tiny-imagenet-200/n01443537/images/n01443537_236.JPEG\n",
      "n01443537_164.JPEG\n",
      "/scratch/zhao.lin1/dataset/tiny-imagenet-200/n01443537/images/n01443537_164.JPEG\n",
      "n01443537_191.JPEG\n",
      "/scratch/zhao.lin1/dataset/tiny-imagenet-200/n01443537/images/n01443537_191.JPEG\n",
      "n01443537_147.JPEG\n",
      "/scratch/zhao.lin1/dataset/tiny-imagenet-200/n01443537/images/n01443537_147.JPEG\n",
      "n01443537_280.JPEG\n",
      "/scratch/zhao.lin1/dataset/tiny-imagenet-200/n01443537/images/n01443537_280.JPEG\n",
      "n01443537_77.JPEG\n",
      "/scratch/zhao.lin1/dataset/tiny-imagenet-200/n01443537/images/n01443537_77.JPEG\n",
      "n01443537_258.JPEG\n",
      "/scratch/zhao.lin1/dataset/tiny-imagenet-200/n01443537/images/n01443537_258.JPEG\n",
      "n01443537_487.JPEG\n",
      "/scratch/zhao.lin1/dataset/tiny-imagenet-200/n01443537/images/n01443537_487.JPEG\n",
      "n01443537_287.JPEG\n",
      "/scratch/zhao.lin1/dataset/tiny-imagenet-200/n01443537/images/n01443537_287.JPEG\n"
     ]
    }
   ],
   "source": [
    "json_file = 'ds_inf/vit_Kmeans++_1_cluster_per_class.json'\n",
    "with open(json_file, 'r') as f:\n",
    "    data = json.load(f)\n",
    "\n",
    "for class_name, image_files in data.items():\n",
    "    if class_name not in wnid_to_index:\n",
    "        continue\n",
    "    print(class_name)\n",
    "    class_index = wnid_to_index[class_name]\n",
    "    class_path = os.path.join(root_dir, class_name, 'images')\n",
    "    \n",
    "    # Iterate over the image files (which are dictionaries containing 'index', 'file_name', 'distance')\n",
    "    for img_info in image_files:\n",
    "        img_file = img_info[\"file_name\"]  # Extract the file name from the dictionary\n",
    "        img_path = os.path.join(class_path, img_file)\n",
    "        print(img_file)\n",
    "        print(img_path)\n",
    "        # Check if the image file exists\n",
    "        if os.path.exists(img_path):\n",
    "            self.images.append(img_path)  # Add the image path to the list\n",
    "            self.labels.append(class_index)  # Add the corresponding class index\n",
    "    break"
   ]
  },
  {
   "cell_type": "code",
   "execution_count": 5,
   "metadata": {},
   "outputs": [
    {
     "name": "stdout",
     "output_type": "stream",
     "text": [
      "JSON 文件中有 185 个键\n"
     ]
    }
   ],
   "source": [
    "with open(\"/home/zhao.lin1/DD-DDIM-Inversion/ds_inf/key50_far_latents_train_vit_image_feature_CLS.json\", \"r\") as json_file:\n",
    "    data = json.load(json_file)  # 解析 JSON 数据\n",
    "\n",
    "# 计算字典中的键的数量\n",
    "num_keys = len(data)  # 获取字典的键数量\n",
    "\n",
    "print(f\"JSON 文件中有 {num_keys} 个键\")"
   ]
  },
  {
   "cell_type": "code",
   "execution_count": null,
   "metadata": {},
   "outputs": [],
   "source": []
  }
 ],
 "metadata": {
  "kernelspec": {
   "display_name": "Python 3 (ipykernel)",
   "language": "python",
   "name": "python3"
  },
  "language_info": {
   "codemirror_mode": {
    "name": "ipython",
    "version": 3
   },
   "file_extension": ".py",
   "mimetype": "text/x-python",
   "name": "python",
   "nbconvert_exporter": "python",
   "pygments_lexer": "ipython3",
   "version": "3.10.15"
  }
 },
 "nbformat": 4,
 "nbformat_minor": 4
}
